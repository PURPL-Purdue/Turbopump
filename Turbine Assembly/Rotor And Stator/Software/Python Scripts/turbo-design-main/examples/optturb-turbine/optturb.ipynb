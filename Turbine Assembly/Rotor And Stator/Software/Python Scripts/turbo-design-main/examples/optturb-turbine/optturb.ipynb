{
  "cells": [
    {
      "cell_type": "markdown",
      "metadata": {
        "id": "iM-PVQj_x9PM"
      },
      "source": [
        "# OptTurb\n",
        "Is based on a optimization campaign to design a turbine for Purdue AeroThermal Experimental Lab. It is based on a 1D meanline code; however, the full radial equilibrium equations are solved.\n",
        "\n",
        "The lab consists of storage of high pressure air at 138 bar paired to a heater allowing temperatures to reach 1090K. This is the exhausted to either athmosphere or a vacuum tank.\n",
        "![zucrow labs](https://github.com/nasa/turbo-design/blob/main/examples/optturb-turbine/images/zucrow.png?raw=true)\n",
        "\n",
        "A meanline code was used to design an optimal velocity triangle for a turbine given the range of operating conditions of the facility.\n",
        "\n",
        "[Design Spreadsheet](https://github.com/nasa/turbo-design/blob/main/examples/optturb-turbine/optturb-fixed_pressure_loss2.xlsm)\n"
      ]
    },
    {
      "cell_type": "code",
      "execution_count": 1,
      "metadata": {
        "colab": {
          "base_uri": "https://localhost:8080/"
        },
        "id": "7eFdi6H6x9PN",
        "outputId": "fb708216-cea5-46fd-93a6-3f19deb57662"
      },
      "outputs": [
        {
          "name": "stdout",
          "output_type": "stream",
          "text": [
            "Collecting turbo-design\n",
            "  Downloading turbo_design-1.0.8-py3-none-any.whl.metadata (683 bytes)\n",
            "Collecting cantera (from turbo-design)\n",
            "  Downloading Cantera-3.0.1-cp310-cp310-manylinux_2_17_x86_64.manylinux2014_x86_64.whl.metadata (7.8 kB)\n",
            "Collecting findiff (from turbo-design)\n",
            "  Downloading findiff-0.10.0-py3-none-any.whl.metadata (2.1 kB)\n",
            "Requirement already satisfied: matplotlib in /usr/local/lib/python3.10/dist-packages (from turbo-design) (3.7.1)\n",
            "Requirement already satisfied: numpy in /usr/local/lib/python3.10/dist-packages (from turbo-design) (1.26.4)\n",
            "Requirement already satisfied: pandas in /usr/local/lib/python3.10/dist-packages (from turbo-design) (2.1.4)\n",
            "Collecting plot3d (from turbo-design)\n",
            "  Downloading plot3d-1.6.7-py3-none-any.whl.metadata (660 bytes)\n",
            "Collecting pyturbo-aero (from turbo-design)\n",
            "  Downloading pyturbo_aero-1.1.0-py3-none-any.whl.metadata (754 bytes)\n",
            "Requirement already satisfied: scipy in /usr/local/lib/python3.10/dist-packages (from turbo-design) (1.13.1)\n",
            "Collecting ruamel.yaml>=0.15.34 (from cantera->turbo-design)\n",
            "  Downloading ruamel.yaml-0.18.6-py3-none-any.whl.metadata (23 kB)\n",
            "Requirement already satisfied: sympy in /usr/local/lib/python3.10/dist-packages (from findiff->turbo-design) (1.13.2)\n",
            "Requirement already satisfied: contourpy>=1.0.1 in /usr/local/lib/python3.10/dist-packages (from matplotlib->turbo-design) (1.3.0)\n",
            "Requirement already satisfied: cycler>=0.10 in /usr/local/lib/python3.10/dist-packages (from matplotlib->turbo-design) (0.12.1)\n",
            "Requirement already satisfied: fonttools>=4.22.0 in /usr/local/lib/python3.10/dist-packages (from matplotlib->turbo-design) (4.53.1)\n",
            "Requirement already satisfied: kiwisolver>=1.0.1 in /usr/local/lib/python3.10/dist-packages (from matplotlib->turbo-design) (1.4.7)\n",
            "Requirement already satisfied: packaging>=20.0 in /usr/local/lib/python3.10/dist-packages (from matplotlib->turbo-design) (24.1)\n",
            "Requirement already satisfied: pillow>=6.2.0 in /usr/local/lib/python3.10/dist-packages (from matplotlib->turbo-design) (9.4.0)\n",
            "Requirement already satisfied: pyparsing>=2.3.1 in /usr/local/lib/python3.10/dist-packages (from matplotlib->turbo-design) (3.1.4)\n",
            "Requirement already satisfied: python-dateutil>=2.7 in /usr/local/lib/python3.10/dist-packages (from matplotlib->turbo-design) (2.8.2)\n",
            "Requirement already satisfied: pytz>=2020.1 in /usr/local/lib/python3.10/dist-packages (from pandas->turbo-design) (2024.2)\n",
            "Requirement already satisfied: tzdata>=2022.1 in /usr/local/lib/python3.10/dist-packages (from pandas->turbo-design) (2024.1)\n",
            "Requirement already satisfied: networkx in /usr/local/lib/python3.10/dist-packages (from plot3d->turbo-design) (3.3)\n",
            "Requirement already satisfied: tqdm in /usr/local/lib/python3.10/dist-packages (from plot3d->turbo-design) (4.66.5)\n",
            "Collecting numpy-stl (from pyturbo-aero->turbo-design)\n",
            "  Downloading numpy_stl-3.1.2-py3-none-any.whl.metadata (16 kB)\n",
            "Requirement already satisfied: plotly in /usr/local/lib/python3.10/dist-packages (from pyturbo-aero->turbo-design) (5.15.0)\n",
            "Requirement already satisfied: six>=1.5 in /usr/local/lib/python3.10/dist-packages (from python-dateutil>=2.7->matplotlib->turbo-design) (1.16.0)\n",
            "Collecting ruamel.yaml.clib>=0.2.7 (from ruamel.yaml>=0.15.34->cantera->turbo-design)\n",
            "  Downloading ruamel.yaml.clib-0.2.8-cp310-cp310-manylinux_2_17_x86_64.manylinux2014_x86_64.manylinux_2_24_x86_64.whl.metadata (2.2 kB)\n",
            "Requirement already satisfied: python-utils>=3.4.5 in /usr/local/lib/python3.10/dist-packages (from numpy-stl->pyturbo-aero->turbo-design) (3.8.2)\n",
            "Requirement already satisfied: tenacity>=6.2.0 in /usr/local/lib/python3.10/dist-packages (from plotly->pyturbo-aero->turbo-design) (9.0.0)\n",
            "Requirement already satisfied: mpmath<1.4,>=1.1.0 in /usr/local/lib/python3.10/dist-packages (from sympy->findiff->turbo-design) (1.3.0)\n",
            "Requirement already satisfied: typing-extensions>3.10.0.2 in /usr/local/lib/python3.10/dist-packages (from python-utils>=3.4.5->numpy-stl->pyturbo-aero->turbo-design) (4.12.2)\n",
            "Downloading turbo_design-1.0.8-py3-none-any.whl (48 kB)\n",
            "\u001b[2K   \u001b[90m━━━━━━━━━━━━━━━━━━━━━━━━━━━━━━━━━━━━━━━━\u001b[0m \u001b[32m48.4/48.4 kB\u001b[0m \u001b[31m1.3 MB/s\u001b[0m eta \u001b[36m0:00:00\u001b[0m\n",
            "\u001b[?25hDownloading Cantera-3.0.1-cp310-cp310-manylinux_2_17_x86_64.manylinux2014_x86_64.whl (5.9 MB)\n",
            "\u001b[2K   \u001b[90m━━━━━━━━━━━━━━━━━━━━━━━━━━━━━━━━━━━━━━━━\u001b[0m \u001b[32m5.9/5.9 MB\u001b[0m \u001b[31m12.5 MB/s\u001b[0m eta \u001b[36m0:00:00\u001b[0m\n",
            "\u001b[?25hDownloading findiff-0.10.0-py3-none-any.whl (33 kB)\n",
            "Downloading plot3d-1.6.7-py3-none-any.whl (37 kB)\n",
            "Downloading pyturbo_aero-1.1.0-py3-none-any.whl (1.5 MB)\n",
            "\u001b[2K   \u001b[90m━━━━━━━━━━━━━━━━━━━━━━━━━━━━━━━━━━━━━━━━\u001b[0m \u001b[32m1.5/1.5 MB\u001b[0m \u001b[31m10.5 MB/s\u001b[0m eta \u001b[36m0:00:00\u001b[0m\n",
            "\u001b[?25hDownloading ruamel.yaml-0.18.6-py3-none-any.whl (117 kB)\n",
            "\u001b[2K   \u001b[90m━━━━━━━━━━━━━━━━━━━━━━━━━━━━━━━━━━━━━━━━\u001b[0m \u001b[32m117.8/117.8 kB\u001b[0m \u001b[31m6.1 MB/s\u001b[0m eta \u001b[36m0:00:00\u001b[0m\n",
            "\u001b[?25hDownloading numpy_stl-3.1.2-py3-none-any.whl (20 kB)\n",
            "Downloading ruamel.yaml.clib-0.2.8-cp310-cp310-manylinux_2_17_x86_64.manylinux2014_x86_64.manylinux_2_24_x86_64.whl (526 kB)\n",
            "\u001b[2K   \u001b[90m━━━━━━━━━━━━━━━━━━━━━━━━━━━━━━━━━━━━━━━━\u001b[0m \u001b[32m526.7/526.7 kB\u001b[0m \u001b[31m8.7 MB/s\u001b[0m eta \u001b[36m0:00:00\u001b[0m\n",
            "\u001b[?25hInstalling collected packages: ruamel.yaml.clib, ruamel.yaml, numpy-stl, findiff, pyturbo-aero, plot3d, cantera, turbo-design\n",
            "Successfully installed cantera-3.0.1 findiff-0.10.0 numpy-stl-3.1.2 plot3d-1.6.7 pyturbo-aero-1.1.0 ruamel.yaml-0.18.6 ruamel.yaml.clib-0.2.8 turbo-design-1.0.8\n"
          ]
        }
      ],
      "source": [
        "# Installing the package\n",
        "!pip install turbo-design"
      ]
    },
    {
      "cell_type": "code",
      "execution_count": 1,
      "metadata": {
        "id": "nHzIUxdLx9PO"
      },
      "outputs": [],
      "source": [
        "from turbodesign import TurbineSpool, Inlet, RowType, BladeRow, Passage, Outlet, PassageType\n",
        "from turbodesign.enums import MassflowConstraint\n",
        "from turbodesign.coolant import Coolant\n",
        "import numpy as np\n",
        "from cantera import Solution"
      ]
    },
    {
      "cell_type": "code",
      "execution_count": 17,
      "metadata": {
        "colab": {
          "base_uri": "https://localhost:8080/"
        },
        "id": "G5nL7ix-x9PO",
        "outputId": "56035574-de58-4d30-9f5f-b1972c91e38a"
      },
      "outputs": [
        {
          "name": "stdout",
          "output_type": "stream",
          "text": [
            "Coefficient of Pressure [J/Kg] 1066.8767\n"
          ]
        }
      ],
      "source": [
        "#%% Define the Passage\n",
        "# Geometry from OptTurb\n",
        "rmean = 0.389 # meters\n",
        "H1 = 0.04 # meters\n",
        "H2 = 1.159*H1\n",
        "H3 = 1.317*H2\n",
        "cax = (H1+H2+H3)/3\n",
        "\n",
        "# Inlet, Stator Inlet, Stator Exit, Rotor Exit\n",
        "rhub = [rmean-H1/2,rmean-H1/2,rmean-H2/2,rmean-H3/2]\n",
        "rshroud = [rmean+H1/2,rmean+H1/2,rmean+H2/2,rmean+H3/2]\n",
        "xhub = np.array([-cax, 0.0, cax, 2*cax])\n",
        "xshroud = np.array([-cax, 0.0, cax, 2*cax])\n",
        "axial_len = xhub[-1]-xhub[0]\n",
        "\n",
        "passage = Passage(xhub,rhub,\n",
        "                 xshroud,rshroud,\n",
        "                 passageType=PassageType.Axial)\n",
        "\n",
        "#%% Design Conditions\n",
        "Design_RPM = 7500\n",
        "P0 = 500000     # Pascal\n",
        "T0 = 676.3      # Kelvin\n",
        "\n",
        "# Fluid\n",
        "fluid = Solution('air.yaml')\n",
        "fluid.TP = T0, P0 # Use pascal for cantera\n",
        "print(f\"Coefficient of Pressure [J/Kg] {fluid.cp:0.4f}\")\n",
        "\n",
        "#%% Defining the Inlet\n",
        "inlet = Inlet(M=0.2,\n",
        "                 P0=[P0],\n",
        "                 T0=[T0],\n",
        "                 beta=[0],\n",
        "                 percent_radii=0.5,\n",
        "                 location=cax/axial_len)\n",
        "outlet = Outlet(P=P0/3.96,percent_radii=0.5,num_streamlines=3)\n",
        "\n",
        "stator1 = BladeRow(row_type=RowType.Stator,location=2*cax/axial_len)\n",
        "rotor1 = BladeRow(row_type=RowType.Rotor,location=3*cax/axial_len)\n",
        "\n",
        "stator1.axial_chord = cax # Set an axial chord. Used for plotting\n",
        "rotor1.axial_chord = cax\n",
        "\n",
        "# Coolant Definition: Use Kelvin and Pascal\n",
        "stator1.coolant = Coolant(T0=500*0.555556, P0= 50.6 * 6894.76, massflow_percentage=0,Cp=1006)\n",
        "rotor1.coolant = Coolant(T0=500*0.555556, P0= 50.6 * 6894.76,massflow_percentage=0,Cp=1006)\n",
        "\n",
        "# Add in turning angles\n",
        "stator1.beta2_metal = [73,73,73] # Angle, hub,mean,tip\n",
        "rotor1.beta2_metal = [-67.6,-67.6,-67.6] # Angle, hub,mean,tip\n",
        "\n",
        "# Coolant: Use Kelvin and Pascal\n",
        "massflow = 35.9 # kg/s, guessed value"
      ]
    },
    {
      "cell_type": "markdown",
      "metadata": {
        "id": "DZvzQBXlx9PP"
      },
      "source": [
        "Turbine example contains many different loss models. Two types of models currently supported are enthalpy based and pressure loss based. Users can write their own loss models, see source code for more information."
      ]
    },
    {
      "cell_type": "code",
      "execution_count": 8,
      "metadata": {
        "id": "HpyuuCwpx9PP"
      },
      "outputs": [],
      "source": [
        "# Commented out because you need to generate a pickle file for other loss models.\n",
        "# To do that, go into craigcox folder and run `python build_dataset.py`\n",
        "# There is an auto download but depending on the python version, the pickle file downloaded may not read.\n",
        "\n",
        "# from turbodesign.loss.turbine import CraigCox, AinleyMathieson, FixedEfficiency, KrackerOkapuu, Traupel, TD2, FixedPressureLoss\n",
        "from turbodesign.loss.turbine import FixedPressureLoss\n",
        "stator1.loss_model = FixedPressureLoss(0.221)\n",
        "rotor1.loss_model = FixedPressureLoss(0.30)"
      ]
    },
    {
      "cell_type": "code",
      "execution_count": 12,
      "metadata": {
        "id": "BtwfuCeTx9PP"
      },
      "outputs": [],
      "source": [
        "# Define the spool\n",
        "spool = TurbineSpool(passage=passage,\n",
        "            rpm=Design_RPM,\n",
        "            num_streamlines=3,\n",
        "            massflow=massflow,\n",
        "            rows=[inlet,stator1,rotor1,outlet])\n",
        "spool.fluid = fluid\n",
        "spool.massflow_constraint = MassflowConstraint.BalanceMassFlow # Fixes the exit angle and changes degree of reaction\n"
      ]
    },
    {
      "cell_type": "code",
      "execution_count": 20,
      "metadata": {
        "colab": {
          "base_uri": "https://localhost:8080/"
        },
        "id": "HfWWMYV4x9PP",
        "outputId": "990baf87-c6bf-46cd-db59-08237eefd98d"
      },
      "outputs": [
        {
          "ename": "IndexError",
          "evalue": "index 2 is out of bounds for axis 0 with size 2",
          "output_type": "error",
          "traceback": [
            "\u001b[0;31m---------------------------------------------------------------------------\u001b[0m",
            "\u001b[0;31mIndexError\u001b[0m                                Traceback (most recent call last)",
            "Cell \u001b[0;32mIn[20], line 2\u001b[0m\n\u001b[1;32m      1\u001b[0m \u001b[38;5;66;03m# spool.plot_geometry()\u001b[39;00m\n\u001b[0;32m----> 2\u001b[0m \u001b[43mspool\u001b[49m\u001b[38;5;241;43m.\u001b[39;49m\u001b[43msolve\u001b[49m\u001b[43m(\u001b[49m\u001b[43m)\u001b[49m \u001b[38;5;66;03m# This also initializes streamlines\u001b[39;00m\n\u001b[1;32m      3\u001b[0m spool\u001b[38;5;241m.\u001b[39mexport_properties(\u001b[38;5;124m\"\u001b[39m\u001b[38;5;124moptturb.json\u001b[39m\u001b[38;5;124m\"\u001b[39m)\n\u001b[1;32m      4\u001b[0m spool\u001b[38;5;241m.\u001b[39mplot()\n",
            "File \u001b[0;32m~/Documents/GitHub/turbo-design/turbodesign/turbinespool.py:136\u001b[0m, in \u001b[0;36mTurbineSpool.solve\u001b[0;34m(self)\u001b[0m\n\u001b[1;32m    132\u001b[0m \u001b[38;5;28;01mdef\u001b[39;00m\u001b[38;5;250m \u001b[39m\u001b[38;5;21msolve\u001b[39m(\u001b[38;5;28mself\u001b[39m):\n\u001b[1;32m    133\u001b[0m \u001b[38;5;250m    \u001b[39m\u001b[38;5;124;03m\"\"\"\u001b[39;00m\n\u001b[1;32m    134\u001b[0m \u001b[38;5;124;03m        Solve for the exit flow angles to match the massflow distribution at the stage exit\u001b[39;00m\n\u001b[1;32m    135\u001b[0m \u001b[38;5;124;03m    \"\"\"\u001b[39;00m\n\u001b[0;32m--> 136\u001b[0m     \u001b[38;5;28;43mself\u001b[39;49m\u001b[38;5;241;43m.\u001b[39;49m\u001b[43minitialize_streamlines\u001b[49m\u001b[43m(\u001b[49m\u001b[43m)\u001b[49m\n\u001b[1;32m    137\u001b[0m     \u001b[38;5;28mself\u001b[39m\u001b[38;5;241m.\u001b[39minitialize_quantities()\n\u001b[1;32m    139\u001b[0m     \u001b[38;5;28;01mif\u001b[39;00m \u001b[38;5;28mself\u001b[39m\u001b[38;5;241m.\u001b[39mmassflow_constraint \u001b[38;5;241m==\u001b[39mMassflowConstraint\u001b[38;5;241m.\u001b[39mMatchMassFlow:\n",
            "File \u001b[0;32m~/Documents/GitHub/turbo-design/turbodesign/spool.py:164\u001b[0m, in \u001b[0;36mSpool.initialize_streamlines\u001b[0;34m(self)\u001b[0m\n\u001b[1;32m    161\u001b[0m row\u001b[38;5;241m.\u001b[39mm \u001b[38;5;241m=\u001b[39m np\u001b[38;5;241m.\u001b[39mzeros((\u001b[38;5;28mself\u001b[39m\u001b[38;5;241m.\u001b[39mnum_streamlines,))\n\u001b[1;32m    163\u001b[0m t_radial \u001b[38;5;241m=\u001b[39m np\u001b[38;5;241m.\u001b[39mlinspace(\u001b[38;5;241m0\u001b[39m,\u001b[38;5;241m1\u001b[39m,\u001b[38;5;28mself\u001b[39m\u001b[38;5;241m.\u001b[39mnum_streamlines)\n\u001b[0;32m--> 164\u001b[0m \u001b[38;5;28;43mself\u001b[39;49m\u001b[38;5;241;43m.\u001b[39;49m\u001b[43mcalculate_streamline_curvature\u001b[49m\u001b[43m(\u001b[49m\u001b[43mrow\u001b[49m\u001b[43m,\u001b[49m\u001b[43mt_radial\u001b[49m\u001b[43m)\u001b[49m\n\u001b[1;32m    166\u001b[0m \u001b[38;5;66;03m# Set the loss function if it's not set\u001b[39;00m\n\u001b[1;32m    167\u001b[0m \u001b[38;5;28;01mif\u001b[39;00m (\u001b[38;5;28mtype\u001b[39m(row)\u001b[38;5;241m!=\u001b[39m Inlet \u001b[38;5;129;01mand\u001b[39;00m \u001b[38;5;28mtype\u001b[39m(row) \u001b[38;5;241m!=\u001b[39m Outlet):  \n",
            "File \u001b[0;32m~/Documents/GitHub/turbo-design/turbodesign/spool.py:180\u001b[0m, in \u001b[0;36mSpool.calculate_streamline_curvature\u001b[0;34m(self, row, t_radial)\u001b[0m\n\u001b[1;32m    178\u001b[0m \u001b[38;5;28;01mfor\u001b[39;00m i,tr \u001b[38;5;129;01min\u001b[39;00m \u001b[38;5;28menumerate\u001b[39m(t_radial):\n\u001b[1;32m    179\u001b[0m     t_streamline, x_streamline, r_streamline \u001b[38;5;241m=\u001b[39m \u001b[38;5;28mself\u001b[39m\u001b[38;5;241m.\u001b[39mpassage\u001b[38;5;241m.\u001b[39mget_streamline(tr)                \n\u001b[0;32m--> 180\u001b[0m     phi, rm, r \u001b[38;5;241m=\u001b[39m \u001b[38;5;28;43mself\u001b[39;49m\u001b[38;5;241;43m.\u001b[39;49m\u001b[43mpassage\u001b[49m\u001b[38;5;241;43m.\u001b[39;49m\u001b[43mstreamline_curvature\u001b[49m\u001b[43m(\u001b[49m\u001b[43mx_streamline\u001b[49m\u001b[43m,\u001b[49m\u001b[43mr_streamline\u001b[49m\u001b[43m)\u001b[49m\n\u001b[1;32m    181\u001b[0m     row\u001b[38;5;241m.\u001b[39mphi[i] \u001b[38;5;241m=\u001b[39m \u001b[38;5;28mfloat\u001b[39m(interp1d(t_streamline,phi)(row\u001b[38;5;241m.\u001b[39mlocation))\n\u001b[1;32m    182\u001b[0m     row\u001b[38;5;241m.\u001b[39mrm[i] \u001b[38;5;241m=\u001b[39m \u001b[38;5;28mfloat\u001b[39m(interp1d(t_streamline,rm)(row\u001b[38;5;241m.\u001b[39mlocation))\n",
            "File \u001b[0;32m~/Documents/GitHub/turbo-design/turbodesign/passage.py:118\u001b[0m, in \u001b[0;36mPassage.streamline_curvature\u001b[0;34m(x_streamline, r_streamline)\u001b[0m\n\u001b[1;32m    116\u001b[0m d_dx \u001b[38;5;241m=\u001b[39m FinDiff(\u001b[38;5;241m0\u001b[39m,x_streamline[indices[\u001b[38;5;241m0\u001b[39m]:indices[\u001b[38;5;241m-\u001b[39m\u001b[38;5;241m1\u001b[39m]],\u001b[38;5;241m1\u001b[39m)\n\u001b[1;32m    117\u001b[0m d2_dx2 \u001b[38;5;241m=\u001b[39m FinDiff(\u001b[38;5;241m0\u001b[39m,x_streamline[indices[\u001b[38;5;241m0\u001b[39m]:indices[\u001b[38;5;241m-\u001b[39m\u001b[38;5;241m1\u001b[39m]],\u001b[38;5;241m2\u001b[39m)\n\u001b[0;32m--> 118\u001b[0m dr_dx \u001b[38;5;241m=\u001b[39m \u001b[43md_dx\u001b[49m\u001b[43m(\u001b[49m\u001b[43mr_streamline\u001b[49m\u001b[43m[\u001b[49m\u001b[43mindices\u001b[49m\u001b[43m[\u001b[49m\u001b[38;5;241;43m0\u001b[39;49m\u001b[43m]\u001b[49m\u001b[43m:\u001b[49m\u001b[43mindices\u001b[49m\u001b[43m[\u001b[49m\u001b[38;5;241;43m-\u001b[39;49m\u001b[38;5;241;43m1\u001b[39;49m\u001b[43m]\u001b[49m\u001b[43m]\u001b[49m\u001b[43m)\u001b[49m\n\u001b[1;32m    119\u001b[0m d2r_dx2 \u001b[38;5;241m=\u001b[39m d2_dx2(r_streamline[indices[\u001b[38;5;241m0\u001b[39m]:indices[\u001b[38;5;241m-\u001b[39m\u001b[38;5;241m1\u001b[39m]])    \n\u001b[1;32m    121\u001b[0m radius_curvature[indices[\u001b[38;5;241m0\u001b[39m]:indices[\u001b[38;5;241m-\u001b[39m\u001b[38;5;241m1\u001b[39m]] \u001b[38;5;241m=\u001b[39m np\u001b[38;5;241m.\u001b[39mpower((\u001b[38;5;241m1\u001b[39m\u001b[38;5;241m+\u001b[39mnp\u001b[38;5;241m.\u001b[39mpower(dr_dx,\u001b[38;5;241m2\u001b[39m)),\u001b[38;5;241m1.5\u001b[39m)\n",
            "File \u001b[0;32m/opt/homebrew/Caskroom/miniconda/base/envs/dev/lib/python3.12/site-packages/findiff/operators.py:242\u001b[0m, in \u001b[0;36mDiff.__call__\u001b[0;34m(self, f, *args, **kwargs)\u001b[0m\n\u001b[1;32m    239\u001b[0m \u001b[38;5;28;01mif\u001b[39;00m \u001b[38;5;28misinstance\u001b[39m(f, Expression):\n\u001b[1;32m    240\u001b[0m     f \u001b[38;5;241m=\u001b[39m f(\u001b[38;5;241m*\u001b[39margs, \u001b[38;5;241m*\u001b[39m\u001b[38;5;241m*\u001b[39mkwargs)\n\u001b[0;32m--> 242\u001b[0m \u001b[38;5;28;01mreturn\u001b[39;00m \u001b[38;5;28;43mself\u001b[39;49m\u001b[38;5;241;43m.\u001b[39;49m\u001b[43mdifferentiator\u001b[49m(f)\n",
            "File \u001b[0;32m/opt/homebrew/Caskroom/miniconda/base/envs/dev/lib/python3.12/site-packages/findiff/operators.py:247\u001b[0m, in \u001b[0;36mDiff.differentiator\u001b[0;34m(self)\u001b[0m\n\u001b[1;32m    244\u001b[0m \u001b[38;5;129m@property\u001b[39m\n\u001b[1;32m    245\u001b[0m \u001b[38;5;28;01mdef\u001b[39;00m\u001b[38;5;250m \u001b[39m\u001b[38;5;21mdifferentiator\u001b[39m(\u001b[38;5;28mself\u001b[39m):\n\u001b[1;32m    246\u001b[0m     \u001b[38;5;28;01mif\u001b[39;00m \u001b[38;5;28mself\u001b[39m\u001b[38;5;241m.\u001b[39m_differentiator \u001b[38;5;129;01mis\u001b[39;00m \u001b[38;5;28;01mNone\u001b[39;00m:\n\u001b[0;32m--> 247\u001b[0m         \u001b[38;5;28mself\u001b[39m\u001b[38;5;241m.\u001b[39m_differentiator \u001b[38;5;241m=\u001b[39m \u001b[43mbuild_differentiator\u001b[49m\u001b[43m(\u001b[49m\u001b[38;5;28;43mself\u001b[39;49m\u001b[38;5;241;43m.\u001b[39;49m\u001b[43morder\u001b[49m\u001b[43m,\u001b[49m\u001b[43m \u001b[49m\u001b[38;5;28;43mself\u001b[39;49m\u001b[38;5;241;43m.\u001b[39;49m\u001b[43maxis\u001b[49m\u001b[43m,\u001b[49m\u001b[43m \u001b[49m\u001b[38;5;28;43mself\u001b[39;49m\u001b[38;5;241;43m.\u001b[39;49m\u001b[43macc\u001b[49m\u001b[43m)\u001b[49m\n\u001b[1;32m    248\u001b[0m     \u001b[38;5;28;01mreturn\u001b[39;00m \u001b[38;5;28mself\u001b[39m\u001b[38;5;241m.\u001b[39m_differentiator\n",
            "File \u001b[0;32m/opt/homebrew/Caskroom/miniconda/base/envs/dev/lib/python3.12/site-packages/findiff/findiff.py:22\u001b[0m, in \u001b[0;36mbuild_differentiator\u001b[0;34m(order, axis, acc)\u001b[0m\n\u001b[1;32m     20\u001b[0m \u001b[38;5;28;01melif\u001b[39;00m \u001b[38;5;28misinstance\u001b[39m(axis, NonEquidistantAxis):\n\u001b[1;32m     21\u001b[0m     \u001b[38;5;28;01mif\u001b[39;00m \u001b[38;5;129;01mnot\u001b[39;00m axis\u001b[38;5;241m.\u001b[39mperiodic:\n\u001b[0;32m---> 22\u001b[0m         \u001b[38;5;28;01mreturn\u001b[39;00m \u001b[43m_FinDiffNonUniform\u001b[49m\u001b[43m(\u001b[49m\u001b[43maxis\u001b[49m\u001b[38;5;241;43m.\u001b[39;49m\u001b[43mdim\u001b[49m\u001b[43m,\u001b[49m\u001b[43m \u001b[49m\u001b[43morder\u001b[49m\u001b[43m,\u001b[49m\u001b[43m \u001b[49m\u001b[43maxis\u001b[49m\u001b[38;5;241;43m.\u001b[39;49m\u001b[43mcoords\u001b[49m\u001b[43m,\u001b[49m\u001b[43m \u001b[49m\u001b[43macc\u001b[49m\u001b[43m)\u001b[49m\n\u001b[1;32m     23\u001b[0m     \u001b[38;5;28;01melse\u001b[39;00m:\n\u001b[1;32m     24\u001b[0m         \u001b[38;5;28;01mraise\u001b[39;00m \u001b[38;5;167;01mNotImplementedError\u001b[39;00m(\u001b[38;5;124m\"\u001b[39m\u001b[38;5;124mPeriodic nonuniform axes not yet implemented\u001b[39m\u001b[38;5;124m\"\u001b[39m)\n",
            "File \u001b[0;32m/opt/homebrew/Caskroom/miniconda/base/envs/dev/lib/python3.12/site-packages/findiff/findiff.py:219\u001b[0m, in \u001b[0;36m_FinDiffNonUniform.__init__\u001b[0;34m(self, axis, order, coords, acc)\u001b[0m\n\u001b[1;32m    217\u001b[0m \u001b[38;5;28mself\u001b[39m\u001b[38;5;241m.\u001b[39mcoef_list \u001b[38;5;241m=\u001b[39m []\n\u001b[1;32m    218\u001b[0m \u001b[38;5;28;01mfor\u001b[39;00m i \u001b[38;5;129;01min\u001b[39;00m \u001b[38;5;28mrange\u001b[39m(\u001b[38;5;28mlen\u001b[39m(\u001b[38;5;28mself\u001b[39m\u001b[38;5;241m.\u001b[39mcoords)):\n\u001b[0;32m--> 219\u001b[0m     \u001b[38;5;28mself\u001b[39m\u001b[38;5;241m.\u001b[39mcoef_list\u001b[38;5;241m.\u001b[39mappend(\u001b[43mcoefficients_non_uni\u001b[49m\u001b[43m(\u001b[49m\u001b[43morder\u001b[49m\u001b[43m,\u001b[49m\u001b[43m \u001b[49m\u001b[38;5;28;43mself\u001b[39;49m\u001b[38;5;241;43m.\u001b[39;49m\u001b[43macc\u001b[49m\u001b[43m,\u001b[49m\u001b[43m \u001b[49m\u001b[38;5;28;43mself\u001b[39;49m\u001b[38;5;241;43m.\u001b[39;49m\u001b[43mcoords\u001b[49m\u001b[43m,\u001b[49m\u001b[43m \u001b[49m\u001b[43mi\u001b[49m\u001b[43m)\u001b[49m)\n",
            "File \u001b[0;32m/opt/homebrew/Caskroom/miniconda/base/envs/dev/lib/python3.12/site-packages/findiff/coefs.py:192\u001b[0m, in \u001b[0;36mcoefficients_non_uni\u001b[0;34m(deriv, acc, coords, idx)\u001b[0m\n\u001b[1;32m    189\u001b[0m     num_coef \u001b[38;5;241m=\u001b[39m num_central\n\u001b[1;32m    191\u001b[0m \u001b[38;5;28;01mif\u001b[39;00m idx \u001b[38;5;241m<\u001b[39m num_side:\n\u001b[0;32m--> 192\u001b[0m     matrix \u001b[38;5;241m=\u001b[39m \u001b[43m_build_matrix_non_uniform\u001b[49m\u001b[43m(\u001b[49m\u001b[38;5;241;43m0\u001b[39;49m\u001b[43m,\u001b[49m\u001b[43m \u001b[49m\u001b[43mnum_coef\u001b[49m\u001b[43m \u001b[49m\u001b[38;5;241;43m-\u001b[39;49m\u001b[43m \u001b[49m\u001b[38;5;241;43m1\u001b[39;49m\u001b[43m,\u001b[49m\u001b[43m \u001b[49m\u001b[43mcoords\u001b[49m\u001b[43m,\u001b[49m\u001b[43m \u001b[49m\u001b[43midx\u001b[49m\u001b[43m)\u001b[49m\n\u001b[1;32m    194\u001b[0m     offsets \u001b[38;5;241m=\u001b[39m \u001b[38;5;28mlist\u001b[39m(\u001b[38;5;28mrange\u001b[39m(num_coef))\n\u001b[1;32m    195\u001b[0m     rhs \u001b[38;5;241m=\u001b[39m _build_rhs(offsets, deriv)\n",
            "File \u001b[0;32m/opt/homebrew/Caskroom/miniconda/base/envs/dev/lib/python3.12/site-packages/findiff/coefs.py:254\u001b[0m, in \u001b[0;36m_build_matrix_non_uniform\u001b[0;34m(p, q, coords, k)\u001b[0m\n\u001b[1;32m    252\u001b[0m A \u001b[38;5;241m=\u001b[39m [[\u001b[38;5;241m1\u001b[39m] \u001b[38;5;241m*\u001b[39m (p \u001b[38;5;241m+\u001b[39m q \u001b[38;5;241m+\u001b[39m \u001b[38;5;241m1\u001b[39m)]\n\u001b[1;32m    253\u001b[0m \u001b[38;5;28;01mfor\u001b[39;00m i \u001b[38;5;129;01min\u001b[39;00m \u001b[38;5;28mrange\u001b[39m(\u001b[38;5;241m1\u001b[39m, p \u001b[38;5;241m+\u001b[39m q \u001b[38;5;241m+\u001b[39m \u001b[38;5;241m1\u001b[39m):\n\u001b[0;32m--> 254\u001b[0m     line \u001b[38;5;241m=\u001b[39m [(\u001b[43mcoords\u001b[49m\u001b[43m[\u001b[49m\u001b[43mk\u001b[49m\u001b[43m \u001b[49m\u001b[38;5;241;43m+\u001b[39;49m\u001b[43m \u001b[49m\u001b[43mj\u001b[49m\u001b[43m]\u001b[49m \u001b[38;5;241m-\u001b[39m coords[k]) \u001b[38;5;241m*\u001b[39m\u001b[38;5;241m*\u001b[39m i \u001b[38;5;28;01mfor\u001b[39;00m j \u001b[38;5;129;01min\u001b[39;00m \u001b[38;5;28mrange\u001b[39m(\u001b[38;5;241m-\u001b[39mp, q \u001b[38;5;241m+\u001b[39m \u001b[38;5;241m1\u001b[39m)]\n\u001b[1;32m    255\u001b[0m     A\u001b[38;5;241m.\u001b[39mappend(line)\n\u001b[1;32m    256\u001b[0m \u001b[38;5;28;01mreturn\u001b[39;00m np\u001b[38;5;241m.\u001b[39marray(A, dtype\u001b[38;5;241m=\u001b[39m\u001b[38;5;124m\"\u001b[39m\u001b[38;5;124mfloat\u001b[39m\u001b[38;5;124m\"\u001b[39m)\n",
            "\u001b[0;31mIndexError\u001b[0m: index 2 is out of bounds for axis 0 with size 2"
          ]
        }
      ],
      "source": [
        "# spool.plot_geometry()\n",
        "spool.solve() # This also initializes streamlines\n",
        "spool.export_properties(\"optturb.json\")\n",
        "spool.plot()\n",
        "spool.plot_velocity_triangles()\n"
      ]
    }
  ],
  "metadata": {
    "colab": {
      "provenance": []
    },
    "kernelspec": {
      "display_name": "dev",
      "language": "python",
      "name": "python3"
    },
    "language_info": {
      "codemirror_mode": {
        "name": "ipython",
        "version": 3
      },
      "file_extension": ".py",
      "mimetype": "text/x-python",
      "name": "python",
      "nbconvert_exporter": "python",
      "pygments_lexer": "ipython3",
      "version": "3.12.8"
    }
  },
  "nbformat": 4,
  "nbformat_minor": 0
}
